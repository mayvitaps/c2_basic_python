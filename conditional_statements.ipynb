{
 "cells": [
  {
   "cell_type": "markdown",
   "metadata": {},
   "source": [
    "Task 1: Define a comparator funtion"
   ]
  },
  {
   "cell_type": "code",
   "execution_count": 4,
   "metadata": {},
   "outputs": [],
   "source": [
    "def send_email(num_visits, visits_email):\n",
    "    if num_visits >= visits_email:\n",
    "        print('Send email')\n",
    "    else:\n",
    "        print('Not enough visits.')"
   ]
  },
  {
   "cell_type": "code",
   "execution_count": 5,
   "metadata": {},
   "outputs": [
    {
     "name": "stdout",
     "output_type": "stream",
     "text": [
      "Not enough visits.\n",
      "Send email\n",
      "Send email\n"
     ]
    }
   ],
   "source": [
    "send_email(num_visits=3, visits_email=5)    # Should print 'Not enough visits.'\n",
    "send_email(num_visits=5, visits_email=5)    # Should print 'Send email.'\n",
    "send_email(num_visits=15, visits_email=10)  # Should print 'Send email.'"
   ]
  },
  {
   "cell_type": "markdown",
   "metadata": {},
   "source": [
    "Task 2: Add logical branching to your function"
   ]
  },
  {
   "cell_type": "code",
   "execution_count": 8,
   "metadata": {},
   "outputs": [],
   "source": [
    "def send_email(num_visits, visits_email, visits_coupon):\n",
    "    if num_visits >= visits_coupon:\n",
    "        print('Send email with coupon.')\n",
    "    elif num_visits >= visits_email:\n",
    "        print('Send email only.')\n",
    "    else:\n",
    "        print('Not enough visits.')"
   ]
  },
  {
   "cell_type": "code",
   "execution_count": 9,
   "metadata": {},
   "outputs": [
    {
     "name": "stdout",
     "output_type": "stream",
     "text": [
      "Not enough visits.\n",
      "Send email only.\n",
      "Send email only.\n",
      "Send email with coupon.\n",
      "Send email with coupon.\n"
     ]
    }
   ],
   "source": [
    "send_email(num_visits=3, visits_email=5, visits_coupon=8)   # Should print 'Not enough visits.'\n",
    "send_email(num_visits=5, visits_email=5, visits_coupon=8)   # Should print 'Send email only.'\n",
    "send_email(num_visits=6, visits_email=5, visits_coupon=8)   # Should print 'Send email only.'\n",
    "send_email(num_visits=8, visits_email=5, visits_coupon=8)   # Should print 'Send email with coupon.'\n",
    "send_email(num_visits=10, visits_email=5, visits_coupon=8)  # Should print 'Send email with coupon.'"
   ]
  }
 ],
 "metadata": {
  "kernelspec": {
   "display_name": "base",
   "language": "python",
   "name": "python3"
  },
  "language_info": {
   "codemirror_mode": {
    "name": "ipython",
    "version": 3
   },
   "file_extension": ".py",
   "mimetype": "text/x-python",
   "name": "python",
   "nbconvert_exporter": "python",
   "pygments_lexer": "ipython3",
   "version": "3.12.4"
  }
 },
 "nbformat": 4,
 "nbformat_minor": 2
}
